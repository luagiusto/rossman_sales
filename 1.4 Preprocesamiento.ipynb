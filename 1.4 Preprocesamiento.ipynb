{
 "cells": [
  {
   "metadata": {
    "ExecuteTime": {
     "end_time": "2024-10-06T20:33:17.534089Z",
     "start_time": "2024-10-06T20:33:17.529034Z"
    }
   },
   "cell_type": "code",
   "source": [
    "import pandas as pd\n",
    "import numpy as np"
   ],
   "id": "e08d501a209ad2de",
   "outputs": [],
   "execution_count": 36
  },
  {
   "metadata": {},
   "cell_type": "markdown",
   "source": "## Carga de Datos",
   "id": "b593b8e4ff758eba"
  },
  {
   "metadata": {
    "ExecuteTime": {
     "end_time": "2024-10-06T20:33:18.693943Z",
     "start_time": "2024-10-06T20:33:17.547758Z"
    }
   },
   "cell_type": "code",
   "source": [
    "# redefinir los tipos de datos para las columnas que se cargan como 'object'\n",
    "dtype_spec_test = {\n",
    "    'column_6_name': 'str',  # Replace 'column_6_name' with the actual name of column 6 in merged_test.csv\n",
    "}\n",
    "\n",
    "dtype_spec_train = {\n",
    "    'column_7_name': 'str',  # Replace 'column_7_name' with the actual name of column 7 in merged_train.csv\n",
    "}\n",
    "\n",
    "# cargar los datos\n",
    "clean_test = pd.read_csv('merged_test.csv', dtype=dtype_spec_test, low_memory=False)\n",
    "clean_train = pd.read_csv('merged_train.csv', dtype=dtype_spec_train, low_memory=False)\n"
   ],
   "id": "7f19d8479cefb829",
   "outputs": [],
   "execution_count": 37
  },
  {
   "metadata": {},
   "cell_type": "markdown",
   "source": "## Limpieza de Datos\n",
   "id": "bc1e256c2fbd5c27"
  },
  {
   "metadata": {
    "ExecuteTime": {
     "end_time": "2024-10-06T20:33:18.697996Z",
     "start_time": "2024-10-06T20:33:18.695225Z"
    }
   },
   "cell_type": "code",
   "source": [
    "#pasar nombre de columnas a minusculas y reemplazar espacios por guiones bajos (preferencia de la autora) \n",
    "clean_test.columns = clean_test.columns.str.lower().str.replace(' ', '_')\n",
    "clean_train.columns = clean_train.columns.str.lower().str.replace(' ', '_')"
   ],
   "id": "a9237a6903fa7cf",
   "outputs": [],
   "execution_count": 38
  },
  {
   "metadata": {
    "ExecuteTime": {
     "end_time": "2024-10-06T20:33:18.824753Z",
     "start_time": "2024-10-06T20:33:18.698766Z"
    }
   },
   "cell_type": "code",
   "source": [
    "#evaluamos la presencia de valores nulos\n",
    "print(clean_test.isnull().sum())\n",
    "print(clean_train.isnull().sum())"
   ],
   "id": "c899d425f8cc2acf",
   "outputs": [
    {
     "name": "stdout",
     "output_type": "stream",
     "text": [
      "id                               0\n",
      "store                            0\n",
      "dayofweek                        0\n",
      "date                             0\n",
      "open                            11\n",
      "promo                            0\n",
      "stateholiday                     0\n",
      "schoolholiday                    0\n",
      "storetype                        0\n",
      "assortment                       0\n",
      "competitiondistance             96\n",
      "competitionopensincemonth    15216\n",
      "competitionopensinceyear     15216\n",
      "promo2                           0\n",
      "promo2sinceweek              17232\n",
      "promo2sinceyear              17232\n",
      "promointerval                17232\n",
      "dtype: int64\n",
      "store                             0\n",
      "dayofweek                         0\n",
      "date                              0\n",
      "sales                             0\n",
      "customers                         0\n",
      "open                              0\n",
      "promo                             0\n",
      "stateholiday                      0\n",
      "schoolholiday                     0\n",
      "storetype                         0\n",
      "assortment                        0\n",
      "competitiondistance            2642\n",
      "competitionopensincemonth    323348\n",
      "competitionopensinceyear     323348\n",
      "promo2                            0\n",
      "promo2sinceweek              508031\n",
      "promo2sinceyear              508031\n",
      "promointerval                508031\n",
      "dtype: int64\n"
     ]
    }
   ],
   "execution_count": 39
  },
  {
   "metadata": {
    "ExecuteTime": {
     "end_time": "2024-10-06T20:33:18.883517Z",
     "start_time": "2024-10-06T20:33:18.826220Z"
    }
   },
   "cell_type": "code",
   "source": [
    "#pasar la columna date a datetime\n",
    "clean_test['date'] = pd.to_datetime(clean_test['date'])\n",
    "clean_train['date'] = pd.to_datetime(clean_train['date'])"
   ],
   "id": "5bf5605f6891c869",
   "outputs": [],
   "execution_count": 40
  },
  {
   "metadata": {
    "ExecuteTime": {
     "end_time": "2024-10-06T20:33:18.907580Z",
     "start_time": "2024-10-06T20:33:18.884472Z"
    }
   },
   "cell_type": "code",
   "source": [
    "#reemplazar los valores nulos de la columna competitiondistance por la mediana\n",
    "clean_test['competitiondistance'].fillna(clean_test['competitiondistance'].median(), inplace=True)\n",
    "clean_train['competitiondistance'].fillna(clean_train['competitiondistance'].median(), inplace=True)"
   ],
   "id": "34fb87c3e7b7c340",
   "outputs": [
    {
     "name": "stderr",
     "output_type": "stream",
     "text": [
      "/var/folders/dk/_8pjx3z94934mw25lyqb9xkw0000gn/T/ipykernel_2401/449920827.py:2: FutureWarning: A value is trying to be set on a copy of a DataFrame or Series through chained assignment using an inplace method.\n",
      "The behavior will change in pandas 3.0. This inplace method will never work because the intermediate object on which we are setting values always behaves as a copy.\n",
      "\n",
      "For example, when doing 'df[col].method(value, inplace=True)', try using 'df.method({col: value}, inplace=True)' or df[col] = df[col].method(value) instead, to perform the operation inplace on the original object.\n",
      "\n",
      "\n",
      "  clean_test['competitiondistance'].fillna(clean_test['competitiondistance'].median(), inplace=True)\n",
      "/var/folders/dk/_8pjx3z94934mw25lyqb9xkw0000gn/T/ipykernel_2401/449920827.py:3: FutureWarning: A value is trying to be set on a copy of a DataFrame or Series through chained assignment using an inplace method.\n",
      "The behavior will change in pandas 3.0. This inplace method will never work because the intermediate object on which we are setting values always behaves as a copy.\n",
      "\n",
      "For example, when doing 'df[col].method(value, inplace=True)', try using 'df.method({col: value}, inplace=True)' or df[col] = df[col].method(value) instead, to perform the operation inplace on the original object.\n",
      "\n",
      "\n",
      "  clean_train['competitiondistance'].fillna(clean_train['competitiondistance'].median(), inplace=True)\n"
     ]
    }
   ],
   "execution_count": 41
  },
  {
   "metadata": {
    "ExecuteTime": {
     "end_time": "2024-10-06T20:33:18.916528Z",
     "start_time": "2024-10-06T20:33:18.908386Z"
    }
   },
   "cell_type": "code",
   "source": "clean_train.head()",
   "id": "addd19bae418ab",
   "outputs": [
    {
     "data": {
      "text/plain": [
       "   store  dayofweek       date  sales  customers  open  promo stateholiday  \\\n",
       "0      1          5 2015-07-31   5263        555     1      1            0   \n",
       "1      2          5 2015-07-31   6064        625     1      1            0   \n",
       "2      3          5 2015-07-31   8314        821     1      1            0   \n",
       "3      4          5 2015-07-31  13995       1498     1      1            0   \n",
       "4      5          5 2015-07-31   4822        559     1      1            0   \n",
       "\n",
       "   schoolholiday storetype assortment  competitiondistance  \\\n",
       "0              1         c          a               1270.0   \n",
       "1              1         a          a                570.0   \n",
       "2              1         a          a              14130.0   \n",
       "3              1         c          c                620.0   \n",
       "4              1         a          a              29910.0   \n",
       "\n",
       "   competitionopensincemonth  competitionopensinceyear  promo2  \\\n",
       "0                        9.0                    2008.0       0   \n",
       "1                       11.0                    2007.0       1   \n",
       "2                       12.0                    2006.0       1   \n",
       "3                        9.0                    2009.0       0   \n",
       "4                        4.0                    2015.0       0   \n",
       "\n",
       "   promo2sinceweek  promo2sinceyear    promointerval  \n",
       "0              NaN              NaN              NaN  \n",
       "1             13.0           2010.0  Jan,Apr,Jul,Oct  \n",
       "2             14.0           2011.0  Jan,Apr,Jul,Oct  \n",
       "3              NaN              NaN              NaN  \n",
       "4              NaN              NaN              NaN  "
      ],
      "text/html": [
       "<div>\n",
       "<style scoped>\n",
       "    .dataframe tbody tr th:only-of-type {\n",
       "        vertical-align: middle;\n",
       "    }\n",
       "\n",
       "    .dataframe tbody tr th {\n",
       "        vertical-align: top;\n",
       "    }\n",
       "\n",
       "    .dataframe thead th {\n",
       "        text-align: right;\n",
       "    }\n",
       "</style>\n",
       "<table border=\"1\" class=\"dataframe\">\n",
       "  <thead>\n",
       "    <tr style=\"text-align: right;\">\n",
       "      <th></th>\n",
       "      <th>store</th>\n",
       "      <th>dayofweek</th>\n",
       "      <th>date</th>\n",
       "      <th>sales</th>\n",
       "      <th>customers</th>\n",
       "      <th>open</th>\n",
       "      <th>promo</th>\n",
       "      <th>stateholiday</th>\n",
       "      <th>schoolholiday</th>\n",
       "      <th>storetype</th>\n",
       "      <th>assortment</th>\n",
       "      <th>competitiondistance</th>\n",
       "      <th>competitionopensincemonth</th>\n",
       "      <th>competitionopensinceyear</th>\n",
       "      <th>promo2</th>\n",
       "      <th>promo2sinceweek</th>\n",
       "      <th>promo2sinceyear</th>\n",
       "      <th>promointerval</th>\n",
       "    </tr>\n",
       "  </thead>\n",
       "  <tbody>\n",
       "    <tr>\n",
       "      <th>0</th>\n",
       "      <td>1</td>\n",
       "      <td>5</td>\n",
       "      <td>2015-07-31</td>\n",
       "      <td>5263</td>\n",
       "      <td>555</td>\n",
       "      <td>1</td>\n",
       "      <td>1</td>\n",
       "      <td>0</td>\n",
       "      <td>1</td>\n",
       "      <td>c</td>\n",
       "      <td>a</td>\n",
       "      <td>1270.0</td>\n",
       "      <td>9.0</td>\n",
       "      <td>2008.0</td>\n",
       "      <td>0</td>\n",
       "      <td>NaN</td>\n",
       "      <td>NaN</td>\n",
       "      <td>NaN</td>\n",
       "    </tr>\n",
       "    <tr>\n",
       "      <th>1</th>\n",
       "      <td>2</td>\n",
       "      <td>5</td>\n",
       "      <td>2015-07-31</td>\n",
       "      <td>6064</td>\n",
       "      <td>625</td>\n",
       "      <td>1</td>\n",
       "      <td>1</td>\n",
       "      <td>0</td>\n",
       "      <td>1</td>\n",
       "      <td>a</td>\n",
       "      <td>a</td>\n",
       "      <td>570.0</td>\n",
       "      <td>11.0</td>\n",
       "      <td>2007.0</td>\n",
       "      <td>1</td>\n",
       "      <td>13.0</td>\n",
       "      <td>2010.0</td>\n",
       "      <td>Jan,Apr,Jul,Oct</td>\n",
       "    </tr>\n",
       "    <tr>\n",
       "      <th>2</th>\n",
       "      <td>3</td>\n",
       "      <td>5</td>\n",
       "      <td>2015-07-31</td>\n",
       "      <td>8314</td>\n",
       "      <td>821</td>\n",
       "      <td>1</td>\n",
       "      <td>1</td>\n",
       "      <td>0</td>\n",
       "      <td>1</td>\n",
       "      <td>a</td>\n",
       "      <td>a</td>\n",
       "      <td>14130.0</td>\n",
       "      <td>12.0</td>\n",
       "      <td>2006.0</td>\n",
       "      <td>1</td>\n",
       "      <td>14.0</td>\n",
       "      <td>2011.0</td>\n",
       "      <td>Jan,Apr,Jul,Oct</td>\n",
       "    </tr>\n",
       "    <tr>\n",
       "      <th>3</th>\n",
       "      <td>4</td>\n",
       "      <td>5</td>\n",
       "      <td>2015-07-31</td>\n",
       "      <td>13995</td>\n",
       "      <td>1498</td>\n",
       "      <td>1</td>\n",
       "      <td>1</td>\n",
       "      <td>0</td>\n",
       "      <td>1</td>\n",
       "      <td>c</td>\n",
       "      <td>c</td>\n",
       "      <td>620.0</td>\n",
       "      <td>9.0</td>\n",
       "      <td>2009.0</td>\n",
       "      <td>0</td>\n",
       "      <td>NaN</td>\n",
       "      <td>NaN</td>\n",
       "      <td>NaN</td>\n",
       "    </tr>\n",
       "    <tr>\n",
       "      <th>4</th>\n",
       "      <td>5</td>\n",
       "      <td>5</td>\n",
       "      <td>2015-07-31</td>\n",
       "      <td>4822</td>\n",
       "      <td>559</td>\n",
       "      <td>1</td>\n",
       "      <td>1</td>\n",
       "      <td>0</td>\n",
       "      <td>1</td>\n",
       "      <td>a</td>\n",
       "      <td>a</td>\n",
       "      <td>29910.0</td>\n",
       "      <td>4.0</td>\n",
       "      <td>2015.0</td>\n",
       "      <td>0</td>\n",
       "      <td>NaN</td>\n",
       "      <td>NaN</td>\n",
       "      <td>NaN</td>\n",
       "    </tr>\n",
       "  </tbody>\n",
       "</table>\n",
       "</div>"
      ]
     },
     "execution_count": 42,
     "metadata": {},
     "output_type": "execute_result"
    }
   ],
   "execution_count": 42
  },
  {
   "metadata": {},
   "cell_type": "markdown",
   "source": "## Preprocesamiento de datos",
   "id": "22b872c4e364d30b"
  },
  {
   "metadata": {
    "ExecuteTime": {
     "end_time": "2024-10-06T20:33:19.122720Z",
     "start_time": "2024-10-06T20:33:18.917363Z"
    }
   },
   "cell_type": "code",
   "source": [
    "# convertir 'date' a datetime\n",
    "clean_train['date'] = pd.to_datetime(clean_train['date'])\n",
    "clean_test['date'] = pd.to_datetime(clean_test['date'])\n",
    "\n",
    "# feature eng a partir de la fecha\n",
    "for df in [clean_train, clean_test]:\n",
    "    df['year'] = df['date'].dt.year\n",
    "    df['month'] = df['date'].dt.month\n",
    "    df['day'] = df['date'].dt.day\n",
    "    df['day_of_week'] = df['date'].dt.dayofweek\n",
    "    df['day_of_year'] = df['date'].dt.dayofyear\n",
    "    df['quarter'] = df['date'].dt.quarter\n",
    "    df['is_month_start'] = df['date'].dt.is_month_start\n",
    "    df['is_month_end'] = df['date'].dt.is_month_end\n",
    "    df['is_quarter_start'] = df['date'].dt.is_quarter_start\n",
    "    df['is_quarter_end'] = df['date'].dt.is_quarter_end\n",
    "    df['is_year_start'] = df['date'].dt.is_year_start\n",
    "    df['is_year_end'] = df['date'].dt.is_year_end\n"
   ],
   "id": "53f05260e36112f0",
   "outputs": [],
   "execution_count": 43
  },
  {
   "metadata": {
    "ExecuteTime": {
     "end_time": "2024-10-06T20:33:19.176474Z",
     "start_time": "2024-10-06T20:33:19.123328Z"
    }
   },
   "cell_type": "code",
   "source": [
    "# asegurarme que 'date' este en datetime (me tiraba error en los modelos sino)\n",
    "clean_train['date'] = pd.to_datetime(clean_train['date'])\n",
    "clean_test['date'] = pd.to_datetime(clean_test['date'])\n",
    "\n",
    "# mas feature eng a partir de las fechas\n",
    "clean_train['month'] = clean_train['date'].dt.month\n",
    "clean_train['day_of_week'] = clean_train['date'].dt.dayofweek\n",
    "\n",
    "clean_test['month'] = clean_test['date'].dt.month\n",
    "clean_test['day_of_week'] = clean_test['date'].dt.dayofweek"
   ],
   "id": "5ed4557b42adb27a",
   "outputs": [],
   "execution_count": 44
  },
  {
   "metadata": {
    "ExecuteTime": {
     "end_time": "2024-10-06T20:33:19.304650Z",
     "start_time": "2024-10-06T20:33:19.177327Z"
    }
   },
   "cell_type": "code",
   "source": [
    "# creacion de features a partir de holiday events\n",
    "for df in [clean_train, clean_test]:\n",
    "    df['is_christmas'] = df['month'] == 12\n",
    "\n",
    "# promedio de ventas por store\n",
    "store_avg_sales = clean_train.groupby('store')['sales'].mean().reset_index()\n",
    "store_avg_sales.columns = ['store', 'avg_sales_per_store']\n",
    "clean_train = clean_train.merge(store_avg_sales, on='store', how='left')\n",
    "clean_test = clean_test.merge(store_avg_sales, on='store', how='left')\n"
   ],
   "id": "da14f76c53ed954b",
   "outputs": [],
   "execution_count": 45
  },
  {
   "metadata": {
    "ExecuteTime": {
     "end_time": "2024-10-06T20:33:24.727318Z",
     "start_time": "2024-10-06T20:33:19.306892Z"
    }
   },
   "cell_type": "code",
   "source": [
    "\n",
    "# creacion de feature de 'storetype' y 'promo' \n",
    "for df in [clean_train, clean_test]:\n",
    "    df['storetype_promo'] = df.apply(\n",
    "        lambda row: f\"storetype_{row['storetype']}_haspromo\" if row['promo'] == 1 else f\"storetype_{row['storetype']}_nopromo\",\n",
    "        axis=1\n",
    "    )\n",
    "    df = pd.get_dummies(df, columns=['storetype_promo'], drop_first=False)\n"
   ],
   "id": "397cbc159cd283f1",
   "outputs": [],
   "execution_count": 46
  },
  {
   "metadata": {
    "ExecuteTime": {
     "end_time": "2024-10-06T20:33:49.765274Z",
     "start_time": "2024-10-06T20:33:24.728672Z"
    }
   },
   "cell_type": "code",
   "source": [
    "# one-hot encoding de 'storetype', 'assortment', y 'promointerval' \n",
    "categorical_columns = ['storetype', 'assortment', 'promointerval']\n",
    "for df in [clean_train, clean_test]:\n",
    "    df = pd.get_dummies(df, columns=categorical_columns, drop_first=True)\n",
    "\n",
    "# convertir 'promo2sinceweek' y 'promo2sinceyear' a features de datetime \n",
    "for df in [clean_train, clean_test]:\n",
    "    df['promo2_start_date'] = df.apply(\n",
    "        lambda row: pd.to_datetime(f\"{int(row['promo2sinceyear'])}{int(row['promo2sinceweek']):02}1\", format='%Y%W%w', errors='coerce')\n",
    "        if pd.notna(row['promo2sinceweek']) and pd.notna(row['promo2sinceyear'])\n",
    "        else pd.NaT,\n",
    "        axis=1\n",
    "    )\n",
    "    df['promo2_start_year'] = df['promo2_start_date'].dt.year\n",
    "    df['promo2_start_month'] = df['promo2_start_date'].dt.month\n",
    "    df['promo2_start_day'] = df['promo2_start_date'].dt.day\n",
    "    df['promo2_start_dayofweek'] = df['promo2_start_date'].dt.dayofweek\n"
   ],
   "id": "420b3d94875b8f1f",
   "outputs": [],
   "execution_count": 47
  },
  {
   "metadata": {
    "ExecuteTime": {
     "end_time": "2024-10-06T20:33:56.235637Z",
     "start_time": "2024-10-06T20:33:49.766073Z"
    }
   },
   "cell_type": "code",
   "source": [
    "# features adicionales a partir de la 'date0\n",
    "for df in [clean_train, clean_test]:\n",
    "    df['quarter'] = df['date'].dt.quarter\n",
    "    df['week_of_year'] = df['date'].dt.isocalendar().week\n",
    "    df['is_weekend'] = df['day_of_week'] >= 5\n",
    "\n",
    "# features a partir de Promo2 \n",
    "month_names = {\n",
    "    1: 'Jan', 2: 'Feb', 3: 'Mar', 4: 'Apr',\n",
    "    5: 'May', 6: 'Jun', 7: 'Jul', 8: 'Aug',\n",
    "    9: 'Sept', 10: 'Oct', 11: 'Nov', 12: 'Dec'\n",
    "}\n",
    "for df in [clean_train, clean_test]:\n",
    "    df['month_name'] = df['month'].map(month_names)\n",
    "    df['is_promo2_active'] = df.apply(\n",
    "        lambda row: 1 if (row['promo2'] == 1 and pd.notna(row['promointerval']) and row['month_name'] in row['promointerval']) else 0,\n",
    "        axis=1\n",
    "    )"
   ],
   "id": "f9889fdb4b6c9f62",
   "outputs": [],
   "execution_count": 48
  },
  {
   "metadata": {
    "ExecuteTime": {
     "end_time": "2024-10-06T20:33:56.415287Z",
     "start_time": "2024-10-06T20:33:56.236450Z"
    }
   },
   "cell_type": "code",
   "source": [
    "# desde cuando la competencia esta abierta\n",
    "for df in [clean_train, clean_test]:\n",
    "    df['competition_open_since'] = ((df['year'] - df['competitionopensinceyear']) * 12) + (df['month'] - df['competitionopensincemonth'])\n",
    "    df['competition_open_since'] = df['competition_open_since'].apply(lambda x: x if x > 0 else 0)\n",
    "    df['competition_open_since'].fillna(0, inplace=True)\n",
    "\n",
    "# encoding de Assortment Level \n",
    "assortment_mapping = {'a': 1, 'b': 2, 'c': 3}\n",
    "for df in [clean_train, clean_test]:\n",
    "    df['assortment_encoded'] = df['assortment'].map(assortment_mapping)\n"
   ],
   "id": "c8284bf2340386aa",
   "outputs": [
    {
     "name": "stderr",
     "output_type": "stream",
     "text": [
      "/var/folders/dk/_8pjx3z94934mw25lyqb9xkw0000gn/T/ipykernel_2401/1973295688.py:5: FutureWarning: A value is trying to be set on a copy of a DataFrame or Series through chained assignment using an inplace method.\n",
      "The behavior will change in pandas 3.0. This inplace method will never work because the intermediate object on which we are setting values always behaves as a copy.\n",
      "\n",
      "For example, when doing 'df[col].method(value, inplace=True)', try using 'df.method({col: value}, inplace=True)' or df[col] = df[col].method(value) instead, to perform the operation inplace on the original object.\n",
      "\n",
      "\n",
      "  df['competition_open_since'].fillna(0, inplace=True)\n",
      "/var/folders/dk/_8pjx3z94934mw25lyqb9xkw0000gn/T/ipykernel_2401/1973295688.py:5: FutureWarning: A value is trying to be set on a copy of a DataFrame or Series through chained assignment using an inplace method.\n",
      "The behavior will change in pandas 3.0. This inplace method will never work because the intermediate object on which we are setting values always behaves as a copy.\n",
      "\n",
      "For example, when doing 'df[col].method(value, inplace=True)', try using 'df.method({col: value}, inplace=True)' or df[col] = df[col].method(value) instead, to perform the operation inplace on the original object.\n",
      "\n",
      "\n",
      "  df['competition_open_since'].fillna(0, inplace=True)\n"
     ]
    }
   ],
   "execution_count": 49
  },
  {
   "metadata": {
    "ExecuteTime": {
     "end_time": "2024-10-06T20:34:02.965937Z",
     "start_time": "2024-10-06T20:33:56.416026Z"
    }
   },
   "cell_type": "code",
   "source": [
    "# binning a partir de Competition Distance \n",
    "distance_bins = [0, 2000, 5000, 10000, np.inf]\n",
    "distance_labels = ['very_close', 'close', 'far', 'very_far']\n",
    "for df in [clean_train, clean_test]:\n",
    "    df['competition_distance_bin'] = pd.cut(df['competitiondistance'], bins=distance_bins, labels=distance_labels)\n",
    "    df = pd.get_dummies(df, columns=['competition_distance_bin'], drop_first=True)\n",
    "\n",
    "# matching de Promo Interval\n",
    "for df in [clean_train, clean_test]:\n",
    "    df['is_in_promo_interval'] = df.apply(\n",
    "        lambda row: 1 if pd.notna(row['promointerval']) and row['month_name'] in row['promointerval'].split(',') else 0,\n",
    "        axis=1\n",
    "    )"
   ],
   "id": "b7be39dbb7e1d58c",
   "outputs": [],
   "execution_count": 50
  },
  {
   "metadata": {
    "ExecuteTime": {
     "end_time": "2024-10-06T20:34:02.985992Z",
     "start_time": "2024-10-06T20:34:02.966811Z"
    }
   },
   "cell_type": "code",
   "source": [
    "# cyclical encoding para 'day_of_week' -> leimos en la discusion que funcionaba bien\n",
    "for df in [clean_train, clean_test]:\n",
    "    df['day_of_week_sin'] = np.sin(2 * np.pi * df['day_of_week'] / 7)\n",
    "    df['day_of_week_cos'] = np.cos(2 * np.pi * df['day_of_week'] / 7)\n"
   ],
   "id": "31f4c5f05bf93a42",
   "outputs": [],
   "execution_count": 51
  },
  {
   "metadata": {
    "ExecuteTime": {
     "end_time": "2024-10-06T20:34:03.632539Z",
     "start_time": "2024-10-06T20:34:02.986740Z"
    }
   },
   "cell_type": "code",
   "source": [
    "# interaction terms entre storetype y assortment\n",
    "for df in [clean_train, clean_test]:\n",
    "    df['storetype_assortment'] = df['storetype'] + '_' + df['assortment']\n",
    "    df = pd.get_dummies(df, columns=['storetype_assortment'], drop_first=True)"
   ],
   "id": "c1aead6065f37725",
   "outputs": [],
   "execution_count": 52
  },
  {
   "metadata": {
    "ExecuteTime": {
     "end_time": "2024-10-06T20:34:12.315523Z",
     "start_time": "2024-10-06T20:34:03.633689Z"
    }
   },
   "cell_type": "code",
   "source": [
    "# guardar el dataset\n",
    "clean_train.to_csv('train_eng.csv', index=False)\n",
    "clean_test.to_csv('test_eng.csv', index=False)"
   ],
   "id": "2819b3956a3c170",
   "outputs": [],
   "execution_count": 53
  },
  {
   "metadata": {
    "ExecuteTime": {
     "end_time": "2024-10-06T20:34:12.317601Z",
     "start_time": "2024-10-06T20:34:12.316351Z"
    }
   },
   "cell_type": "code",
   "source": "",
   "id": "7c7b3dbb9ae1bcb4",
   "outputs": [],
   "execution_count": 53
  }
 ],
 "metadata": {
  "kernelspec": {
   "display_name": "Python 3",
   "language": "python",
   "name": "python3"
  },
  "language_info": {
   "codemirror_mode": {
    "name": "ipython",
    "version": 2
   },
   "file_extension": ".py",
   "mimetype": "text/x-python",
   "name": "python",
   "nbconvert_exporter": "python",
   "pygments_lexer": "ipython2",
   "version": "2.7.6"
  }
 },
 "nbformat": 4,
 "nbformat_minor": 5
}
