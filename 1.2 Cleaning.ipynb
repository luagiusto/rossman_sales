{
 "cells": [
  {
   "cell_type": "code",
   "id": "initial_id",
   "metadata": {
    "collapsed": true,
    "ExecuteTime": {
     "end_time": "2024-10-05T15:14:17.160591Z",
     "start_time": "2024-10-05T15:14:17.121764Z"
    }
   },
   "source": [
    "import pandas as pd\n",
    "import numpy as np \n",
    "from sklearn.experimental import enable_iterative_imputer\n",
    "from sklearn.impute import IterativeImputer\n",
    "from sklearn.impute import KNNImputer"
   ],
   "outputs": [],
   "execution_count": 9
  },
  {
   "metadata": {
    "ExecuteTime": {
     "end_time": "2024-10-05T15:14:19.393249Z",
     "start_time": "2024-10-05T15:14:18.165437Z"
    }
   },
   "cell_type": "code",
   "source": [
    "#redefinir los dtypes de las columnas\n",
    "dtype_spec_test = {\n",
    "    'column_6_name': 'str',  # Replace 'column_6_name' with the actual name of column 6 in merged_test.csv\n",
    "}\n",
    "\n",
    "dtype_spec_train = {\n",
    "    'column_7_name': 'str',  # Replace 'column_7_name' with the actual name of column 7 in merged_train.csv\n",
    "}\n",
    "\n",
    "# carga de la data\n",
    "merged_test = pd.read_csv('merged_test.csv', dtype=dtype_spec_test, low_memory=False)\n",
    "merged_train = pd.read_csv('merged_train.csv', dtype=dtype_spec_train, low_memory=False)\n"
   ],
   "id": "6c570aabb7461e88",
   "outputs": [],
   "execution_count": 10
  },
  {
   "metadata": {
    "ExecuteTime": {
     "end_time": "2024-10-05T15:14:22.928794Z",
     "start_time": "2024-10-05T15:14:22.920122Z"
    }
   },
   "cell_type": "code",
   "source": [
    "#pasar nombre de columnas a minusculas y reemplazar espacios por guiones bajos\n",
    "merged_test.columns = merged_test.columns.str.lower().str.replace(' ', '_')\n",
    "merged_train.columns = merged_train.columns.str.lower().str.replace(' ', '_')\n"
   ],
   "id": "aecd72145abaf905",
   "outputs": [],
   "execution_count": 11
  },
  {
   "metadata": {
    "ExecuteTime": {
     "end_time": "2024-10-05T03:23:26.866865Z",
     "start_time": "2024-10-05T03:23:26.847630Z"
    }
   },
   "cell_type": "code",
   "source": [
    "#evaluamos la presencia de valores nulos\n",
    "print(merged_test.isnull().sum())\n"
   ],
   "id": "148c82cc0e3099c3",
   "outputs": [
    {
     "name": "stdout",
     "output_type": "stream",
     "text": [
      "id                               0\n",
      "store                            0\n",
      "dayofweek                        0\n",
      "date                             0\n",
      "open                            11\n",
      "promo                            0\n",
      "stateholiday                     0\n",
      "schoolholiday                    0\n",
      "storetype                        0\n",
      "assortment                       0\n",
      "competitiondistance             96\n",
      "competitionopensincemonth    15216\n",
      "competitionopensinceyear     15216\n",
      "promo2                           0\n",
      "promo2sinceweek              17232\n",
      "promo2sinceyear              17232\n",
      "promointerval                17232\n",
      "dtype: int64\n"
     ]
    }
   ],
   "execution_count": 5
  },
  {
   "metadata": {
    "ExecuteTime": {
     "end_time": "2024-10-05T15:14:31.111214Z",
     "start_time": "2024-10-05T15:14:30.958903Z"
    }
   },
   "cell_type": "code",
   "source": [
    "#evaluamos la presencia de valores nulos\n",
    "print(merged_train.isnull().sum())"
   ],
   "id": "acb5646e0f5ff23a",
   "outputs": [
    {
     "name": "stdout",
     "output_type": "stream",
     "text": [
      "store                             0\n",
      "dayofweek                         0\n",
      "date                              0\n",
      "sales                             0\n",
      "customers                         0\n",
      "open                              0\n",
      "promo                             0\n",
      "stateholiday                      0\n",
      "schoolholiday                     0\n",
      "storetype                         0\n",
      "assortment                        0\n",
      "competitiondistance            2642\n",
      "competitionopensincemonth    323348\n",
      "competitionopensinceyear     323348\n",
      "promo2                            0\n",
      "promo2sinceweek              508031\n",
      "promo2sinceyear              508031\n",
      "promointerval                508031\n",
      "dtype: int64\n"
     ]
    }
   ],
   "execution_count": 12
  },
  {
   "metadata": {
    "ExecuteTime": {
     "end_time": "2024-10-05T03:23:27.098649Z",
     "start_time": "2024-10-05T03:23:27.012657Z"
    }
   },
   "cell_type": "code",
   "source": [
    "#pasar la columna date a datetime\n",
    "merged_test['date'] = pd.to_datetime(merged_test['date'])\n",
    "merged_train['date'] = pd.to_datetime(merged_train['date'])"
   ],
   "id": "1bc15676ad870917",
   "outputs": [],
   "execution_count": 7
  },
  {
   "metadata": {
    "ExecuteTime": {
     "end_time": "2024-10-05T15:16:22.890143Z",
     "start_time": "2024-10-05T15:16:22.833555Z"
    }
   },
   "cell_type": "code",
   "source": [
    "#reemplazar los valores nulos de la columna competitiondistance por la mediana\n",
    "merged_test['competitiondistance'].fillna(merged_test['competitiondistance'].median(), inplace=True)\n",
    "merged_train['competitiondistance'].fillna(merged_train['competitiondistance'].median(), inplace=True)"
   ],
   "id": "e598b99d3201ae11",
   "outputs": [
    {
     "name": "stderr",
     "output_type": "stream",
     "text": [
      "/var/folders/dk/_8pjx3z94934mw25lyqb9xkw0000gn/T/ipykernel_68637/739119895.py:2: FutureWarning: A value is trying to be set on a copy of a DataFrame or Series through chained assignment using an inplace method.\n",
      "The behavior will change in pandas 3.0. This inplace method will never work because the intermediate object on which we are setting values always behaves as a copy.\n",
      "\n",
      "For example, when doing 'df[col].method(value, inplace=True)', try using 'df.method({col: value}, inplace=True)' or df[col] = df[col].method(value) instead, to perform the operation inplace on the original object.\n",
      "\n",
      "\n",
      "  merged_test['competitiondistance'].fillna(merged_test['competitiondistance'].median(), inplace=True)\n",
      "/var/folders/dk/_8pjx3z94934mw25lyqb9xkw0000gn/T/ipykernel_68637/739119895.py:3: FutureWarning: A value is trying to be set on a copy of a DataFrame or Series through chained assignment using an inplace method.\n",
      "The behavior will change in pandas 3.0. This inplace method will never work because the intermediate object on which we are setting values always behaves as a copy.\n",
      "\n",
      "For example, when doing 'df[col].method(value, inplace=True)', try using 'df.method({col: value}, inplace=True)' or df[col] = df[col].method(value) instead, to perform the operation inplace on the original object.\n",
      "\n",
      "\n",
      "  merged_train['competitiondistance'].fillna(merged_train['competitiondistance'].median(), inplace=True)\n"
     ]
    }
   ],
   "execution_count": 15
  },
  {
   "metadata": {
    "ExecuteTime": {
     "end_time": "2024-10-05T15:16:52.145745Z",
     "start_time": "2024-10-05T15:16:49.354617Z"
    }
   },
   "cell_type": "code",
   "source": [
    "#return el dataset con el cleaning a un csv\n",
    "merged_test.to_csv('merged_test_clean.csv', index=False)\n",
    "merged_train.to_csv('merged_train_clean.csv', index=False)\n"
   ],
   "id": "2b76c34ec8f393c3",
   "outputs": [],
   "execution_count": 16
  },
  {
   "metadata": {},
   "cell_type": "code",
   "outputs": [],
   "execution_count": null,
   "source": "",
   "id": "ea2cb5918cc0c7b4"
  }
 ],
 "metadata": {
  "kernelspec": {
   "display_name": "Python 3",
   "language": "python",
   "name": "python3"
  },
  "language_info": {
   "codemirror_mode": {
    "name": "ipython",
    "version": 2
   },
   "file_extension": ".py",
   "mimetype": "text/x-python",
   "name": "python",
   "nbconvert_exporter": "python",
   "pygments_lexer": "ipython2",
   "version": "2.7.6"
  }
 },
 "nbformat": 4,
 "nbformat_minor": 5
}
