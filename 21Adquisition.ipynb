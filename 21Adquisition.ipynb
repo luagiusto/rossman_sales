{
 "cells": [
  {
   "cell_type": "code",
   "metadata": {
    "ExecuteTime": {
     "end_time": "2024-10-06T22:44:40.076222Z",
     "start_time": "2024-10-06T22:44:38.937894Z"
    }
   },
   "source": [
    "import pandas as pd\n",
    "\n",
    "# Cargar los datos\n",
    "train = pd.read_csv('train.csv', dtype={7: 'str'})\n",
    "store = pd.read_csv('store.csv', low_memory=False)\n",
    "store_states = pd.read_csv('store_states.csv')\n",
    "\n",
    "# Unir los datasets\n",
    "merged_data = pd.merge(train, store, on='Store')\n",
    "merged_data = pd.merge(merged_data, store_states, on='Store', how='left')"
   ],
   "outputs": [],
   "execution_count": 1
  },
  {
   "cell_type": "code",
   "metadata": {
    "ExecuteTime": {
     "end_time": "2024-10-06T22:44:43.080040Z",
     "start_time": "2024-10-06T22:44:40.078398Z"
    }
   },
   "source": [
    "# Guardar el DataFrame en un archivo CSV\n",
    "merged_data.to_csv('merged_data1.csv', index=False)\n"
   ],
   "outputs": [],
   "execution_count": 2
  }
 ],
 "metadata": {
  "kernelspec": {
   "display_name": "Python 3",
   "language": "python",
   "name": "python3"
  },
  "language_info": {
   "codemirror_mode": {
    "name": "ipython",
    "version": 3
   },
   "file_extension": ".py",
   "mimetype": "text/x-python",
   "name": "python",
   "nbconvert_exporter": "python",
   "pygments_lexer": "ipython3",
   "version": "3.11.5"
  }
 },
 "nbformat": 4,
 "nbformat_minor": 2
}
