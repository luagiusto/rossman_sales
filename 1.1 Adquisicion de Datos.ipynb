{
 "cells": [
  {
   "cell_type": "code",
   "id": "initial_id",
   "metadata": {
    "collapsed": true,
    "ExecuteTime": {
     "end_time": "2024-10-05T15:13:39.408518Z",
     "start_time": "2024-10-05T15:13:39.404106Z"
    }
   },
   "source": [
    "import pandas as pd\n",
    "import numpy as np"
   ],
   "outputs": [],
   "execution_count": 7
  },
  {
   "metadata": {
    "ExecuteTime": {
     "end_time": "2024-10-05T15:13:40.068212Z",
     "start_time": "2024-10-05T15:13:39.411042Z"
    }
   },
   "cell_type": "code",
   "source": [
    "# Define dtype_spec with the correct column name and data type\n",
    "dtype_spec = {\n",
    "    'column_name': 'str',  # Replace 'column_name' with the actual column name of column 7\n",
    "    'column_7_name': 'str'  # Replace 'column_7_name' with the actual name of column 7\n",
    "}\n",
    "\n",
    "# Load the data\n",
    "train_df = pd.read_csv('train.csv', dtype=dtype_spec, low_memory=False)\n",
    "test_df = pd.read_csv('test.csv')\n",
    "store_df = pd.read_csv('store.csv')"
   ],
   "id": "ad12f13982cfe9b9",
   "outputs": [],
   "execution_count": 8
  },
  {
   "metadata": {
    "ExecuteTime": {
     "end_time": "2024-10-05T15:13:40.211621Z",
     "start_time": "2024-10-05T15:13:40.069261Z"
    }
   },
   "cell_type": "code",
   "source": [
    "# Unir los datos de la tienda con los datos de entrenamiento y prueba\n",
    "train_df = train_df.merge(store_df, on='Store', how='left')\n",
    "test_df = test_df.merge(store_df, on='Store', how='left')"
   ],
   "id": "9e200f6f7ea9b688",
   "outputs": [],
   "execution_count": 9
  },
  {
   "metadata": {
    "ExecuteTime": {
     "end_time": "2024-10-05T15:13:42.990428Z",
     "start_time": "2024-10-05T15:13:40.212682Z"
    }
   },
   "cell_type": "code",
   "source": [
    "#Return dataset con el merge \n",
    "train_df.to_csv('merged_train.csv', index=False)\n",
    "test_df.to_csv('merged_test.csv', index=False)"
   ],
   "id": "9226d629928620ac",
   "outputs": [],
   "execution_count": 10
  },
  {
   "metadata": {
    "ExecuteTime": {
     "end_time": "2024-10-05T15:13:42.993076Z",
     "start_time": "2024-10-05T15:13:42.991598Z"
    }
   },
   "cell_type": "code",
   "source": "",
   "id": "62bc18defa3a5526",
   "outputs": [],
   "execution_count": 10
  }
 ],
 "metadata": {
  "kernelspec": {
   "display_name": "Python 3",
   "language": "python",
   "name": "python3"
  },
  "language_info": {
   "codemirror_mode": {
    "name": "ipython",
    "version": 2
   },
   "file_extension": ".py",
   "mimetype": "text/x-python",
   "name": "python",
   "nbconvert_exporter": "python",
   "pygments_lexer": "ipython2",
   "version": "2.7.6"
  }
 },
 "nbformat": 4,
 "nbformat_minor": 5
}
