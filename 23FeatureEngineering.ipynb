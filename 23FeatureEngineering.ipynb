{
 "cells": [
  {
   "cell_type": "code",
   "metadata": {
    "ExecuteTime": {
     "end_time": "2024-10-06T22:53:42.998153Z",
     "start_time": "2024-10-06T22:53:41.087433Z"
    }
   },
   "source": [
    "import pandas as pd\n",
    "\n",
    "# Cargar los datos desde el CSV generado en \"22EDA.ipynb\"\n",
    "merged_data = pd.read_csv('merged_data1.csv', low_memory=False)\n",
    "\n",
    "# Convertir la columna 'Date' a formato datetime\n",
    "merged_data['Date'] = pd.to_datetime(merged_data['Date'])\n",
    "\n",
    "# Crear nuevas características a partir de la fecha\n",
    "merged_data['Year'] = merged_data['Date'].dt.year\n",
    "merged_data['Month'] = merged_data['Date'].dt.month\n",
    "merged_data['Day'] = merged_data['Date'].dt.day\n",
    "merged_data['DayOfWeek'] = merged_data['Date'].dt.dayofweek\n",
    "merged_data['IsWeekend'] = merged_data['DayOfWeek'].isin([5, 6]).astype(int)\n",
    "\n",
    "# Imputar valores nulos\n",
    "merged_data['CompetitionDistance'].fillna(merged_data['CompetitionDistance'].mean(), inplace=True)\n",
    "merged_data['CompetitionOpenSinceMonth'].fillna(merged_data['CompetitionOpenSinceMonth'].median(), inplace=True)\n",
    "merged_data['CompetitionOpenSinceYear'].fillna(merged_data['CompetitionOpenSinceYear'].mode()[0], inplace=True)\n",
    "merged_data['Promo2SinceWeek'].fillna(0, inplace=True)  # Imputación simple para ejemplos\n",
    "merged_data['Promo2SinceYear'].fillna(merged_data['Promo2SinceYear'].median(), inplace=True)\n",
    "merged_data['PromoInterval'].fillna(merged_data['PromoInterval'].mode()[0], inplace=True)\n",
    "# Verificar valores nulos después de la imputación\n",
    "print(\"Valores nulos después de la imputación:\\n\", merged_data.isnull().sum())\n",
    "\n",
    "#promedio de sales por tienda\n",
    "merged_data['AvgSales'] = merged_data.groupby(['Store'])['Sales'].transform('mean')\n",
    "\n",
    "#promedio de sales por storetype \n",
    "merged_data['AvgSalesStoreType'] = merged_data.groupby(['StoreType'])['Sales'].transform('mean')\n",
    "\n",
    "#creacion de promedio de customers por tienda\n",
    "merged_data['AvgCustomers'] = merged_data.groupby(['Store'])['Customers'].transform('mean')\n",
    "\n",
    "#customer by storetype\n",
    "merged_data['AvgCustomersStoreType'] = merged_data.groupby(['StoreType'])['Customers'].transform('mean')\n",
    "\n",
    "\n"
   ],
   "outputs": [
    {
     "name": "stderr",
     "output_type": "stream",
     "text": [
      "/var/folders/dk/_8pjx3z94934mw25lyqb9xkw0000gn/T/ipykernel_4538/4233155410.py:17: FutureWarning: A value is trying to be set on a copy of a DataFrame or Series through chained assignment using an inplace method.\n",
      "The behavior will change in pandas 3.0. This inplace method will never work because the intermediate object on which we are setting values always behaves as a copy.\n",
      "\n",
      "For example, when doing 'df[col].method(value, inplace=True)', try using 'df.method({col: value}, inplace=True)' or df[col] = df[col].method(value) instead, to perform the operation inplace on the original object.\n",
      "\n",
      "\n",
      "  merged_data['CompetitionDistance'].fillna(merged_data['CompetitionDistance'].mean(), inplace=True)\n",
      "/var/folders/dk/_8pjx3z94934mw25lyqb9xkw0000gn/T/ipykernel_4538/4233155410.py:18: FutureWarning: A value is trying to be set on a copy of a DataFrame or Series through chained assignment using an inplace method.\n",
      "The behavior will change in pandas 3.0. This inplace method will never work because the intermediate object on which we are setting values always behaves as a copy.\n",
      "\n",
      "For example, when doing 'df[col].method(value, inplace=True)', try using 'df.method({col: value}, inplace=True)' or df[col] = df[col].method(value) instead, to perform the operation inplace on the original object.\n",
      "\n",
      "\n",
      "  merged_data['CompetitionOpenSinceMonth'].fillna(merged_data['CompetitionOpenSinceMonth'].median(), inplace=True)\n",
      "/var/folders/dk/_8pjx3z94934mw25lyqb9xkw0000gn/T/ipykernel_4538/4233155410.py:19: FutureWarning: A value is trying to be set on a copy of a DataFrame or Series through chained assignment using an inplace method.\n",
      "The behavior will change in pandas 3.0. This inplace method will never work because the intermediate object on which we are setting values always behaves as a copy.\n",
      "\n",
      "For example, when doing 'df[col].method(value, inplace=True)', try using 'df.method({col: value}, inplace=True)' or df[col] = df[col].method(value) instead, to perform the operation inplace on the original object.\n",
      "\n",
      "\n",
      "  merged_data['CompetitionOpenSinceYear'].fillna(merged_data['CompetitionOpenSinceYear'].mode()[0], inplace=True)\n",
      "/var/folders/dk/_8pjx3z94934mw25lyqb9xkw0000gn/T/ipykernel_4538/4233155410.py:20: FutureWarning: A value is trying to be set on a copy of a DataFrame or Series through chained assignment using an inplace method.\n",
      "The behavior will change in pandas 3.0. This inplace method will never work because the intermediate object on which we are setting values always behaves as a copy.\n",
      "\n",
      "For example, when doing 'df[col].method(value, inplace=True)', try using 'df.method({col: value}, inplace=True)' or df[col] = df[col].method(value) instead, to perform the operation inplace on the original object.\n",
      "\n",
      "\n",
      "  merged_data['Promo2SinceWeek'].fillna(0, inplace=True)  # Imputación simple para ejemplos\n",
      "/var/folders/dk/_8pjx3z94934mw25lyqb9xkw0000gn/T/ipykernel_4538/4233155410.py:21: FutureWarning: A value is trying to be set on a copy of a DataFrame or Series through chained assignment using an inplace method.\n",
      "The behavior will change in pandas 3.0. This inplace method will never work because the intermediate object on which we are setting values always behaves as a copy.\n",
      "\n",
      "For example, when doing 'df[col].method(value, inplace=True)', try using 'df.method({col: value}, inplace=True)' or df[col] = df[col].method(value) instead, to perform the operation inplace on the original object.\n",
      "\n",
      "\n",
      "  merged_data['Promo2SinceYear'].fillna(merged_data['Promo2SinceYear'].median(), inplace=True)\n",
      "/var/folders/dk/_8pjx3z94934mw25lyqb9xkw0000gn/T/ipykernel_4538/4233155410.py:22: FutureWarning: A value is trying to be set on a copy of a DataFrame or Series through chained assignment using an inplace method.\n",
      "The behavior will change in pandas 3.0. This inplace method will never work because the intermediate object on which we are setting values always behaves as a copy.\n",
      "\n",
      "For example, when doing 'df[col].method(value, inplace=True)', try using 'df.method({col: value}, inplace=True)' or df[col] = df[col].method(value) instead, to perform the operation inplace on the original object.\n",
      "\n",
      "\n",
      "  merged_data['PromoInterval'].fillna(merged_data['PromoInterval'].mode()[0], inplace=True)\n"
     ]
    },
    {
     "name": "stdout",
     "output_type": "stream",
     "text": [
      "Valores nulos después de la imputación:\n",
      " Store                        0\n",
      "DayOfWeek                    0\n",
      "Date                         0\n",
      "Sales                        0\n",
      "Customers                    0\n",
      "Open                         0\n",
      "Promo                        0\n",
      "StateHoliday                 0\n",
      "SchoolHoliday                0\n",
      "StoreType                    0\n",
      "Assortment                   0\n",
      "CompetitionDistance          0\n",
      "CompetitionOpenSinceMonth    0\n",
      "CompetitionOpenSinceYear     0\n",
      "Promo2                       0\n",
      "Promo2SinceWeek              0\n",
      "Promo2SinceYear              0\n",
      "PromoInterval                0\n",
      "State                        0\n",
      "Year                         0\n",
      "Month                        0\n",
      "Day                          0\n",
      "IsWeekend                    0\n",
      "dtype: int64\n"
     ]
    }
   ],
   "execution_count": 9
  },
  {
   "cell_type": "code",
   "metadata": {
    "ExecuteTime": {
     "end_time": "2024-10-06T22:53:53.869971Z",
     "start_time": "2024-10-06T22:53:47.166859Z"
    }
   },
   "source": [
    "# Guardar el DataFrame limpio como un nuevo archivo CSV\n",
    "merged_data.to_csv('data2_eng.csv', index=False)"
   ],
   "outputs": [],
   "execution_count": 10
  },
  {
   "metadata": {},
   "cell_type": "code",
   "outputs": [],
   "execution_count": null,
   "source": ""
  }
 ],
 "metadata": {
  "kernelspec": {
   "display_name": "Python 3",
   "language": "python",
   "name": "python3"
  },
  "language_info": {
   "codemirror_mode": {
    "name": "ipython",
    "version": 3
   },
   "file_extension": ".py",
   "mimetype": "text/x-python",
   "name": "python",
   "nbconvert_exporter": "python",
   "pygments_lexer": "ipython3",
   "version": "3.11.5"
  }
 },
 "nbformat": 4,
 "nbformat_minor": 2
}
